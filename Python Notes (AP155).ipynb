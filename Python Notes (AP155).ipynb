{
 "cells": [
  {
   "cell_type": "markdown",
   "id": "ce2c5e12",
   "metadata": {},
   "source": [
    "## Pandas & Matplotlib"
   ]
  },
  {
   "cell_type": "code",
   "execution_count": null,
   "id": "f649154a",
   "metadata": {},
   "outputs": [],
   "source": [
    "import pandas as pd\n",
    "pd.DataFrame?"
   ]
  },
  {
   "cell_type": "code",
   "execution_count": null,
   "id": "ed332234",
   "metadata": {},
   "outputs": [],
   "source": [
    "pd.read_csv?"
   ]
  },
  {
   "cell_type": "code",
   "execution_count": null,
   "id": "08fe6a4d",
   "metadata": {},
   "outputs": [],
   "source": [
    "from matplotlib import pyplot as plt\n",
    "plt.plot?"
   ]
  },
  {
   "cell_type": "code",
   "execution_count": null,
   "id": "17c93328",
   "metadata": {},
   "outputs": [],
   "source": [
    "# twinx CREATES ANOTHER ax object w/ shared-x (but different x-scales), AND ALSO different y-axes (this time, set to the RIGHT instead of Left.)"
   ]
  },
  {
   "cell_type": "code",
   "execution_count": null,
   "id": "0c4591ae",
   "metadata": {},
   "outputs": [],
   "source": []
  },
  {
   "cell_type": "markdown",
   "id": "f643ef13",
   "metadata": {},
   "source": [
    "## General Python"
   ]
  },
  {
   "cell_type": "markdown",
   "id": "4c55f6e6-dc55-4541-ae74-50337dc7178b",
   "metadata": {},
   "source": [
    "### List Comprehensions"
   ]
  },
  {
   "cell_type": "markdown",
   "id": "8b8740a1",
   "metadata": {},
   "source": [
    "### General & Misc."
   ]
  },
  {
   "cell_type": "code",
   "execution_count": null,
   "id": "b5cbb5cf",
   "metadata": {},
   "outputs": [],
   "source": [
    "# del\n",
    "#"
   ]
  }
 ],
 "metadata": {
  "kernelspec": {
   "display_name": "Python 3 (ipykernel)",
   "language": "python",
   "name": "python3"
  },
  "language_info": {
   "codemirror_mode": {
    "name": "ipython",
    "version": 3
   },
   "file_extension": ".py",
   "mimetype": "text/x-python",
   "name": "python",
   "nbconvert_exporter": "python",
   "pygments_lexer": "ipython3",
   "version": "3.10.5"
  }
 },
 "nbformat": 4,
 "nbformat_minor": 5
}
