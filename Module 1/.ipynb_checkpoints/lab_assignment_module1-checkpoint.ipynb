{
 "cells": [
  {
   "cell_type": "markdown",
   "metadata": {
    "id": "G0BcK0H_G1Iu"
   },
   "source": [
    "# **AP155 Lab Assignment**\n",
    "## Module 1: Integrals and Derivatives\n",
    "\n",
    "_Instructions_: Answer each problem as completely as you can. Discuss **all** your answers as clearly and concisely as possible.\n",
    "\n",
    "_Scoring Criteria_: 50% - *correctness of code*; 50% - *discussion of the code and results*. Maximum score is **100 points**.\n",
    "\n",
    "\n"
   ]
  },
  {
   "cell_type": "markdown",
   "metadata": {
    "id": "PeHZ9kP8JaVR"
   },
   "source": [
    "### Student Information\n",
    "\n",
    "_Full Name (Last Name, First Name)_: Bunachita, Aidan Joseph\\\n",
    "_Student No._ 2020-10991\\\n",
    "_Section_: THU-HX-3"
   ]
  },
  {
   "cell_type": "markdown",
   "metadata": {
    "id": "Hc183co-J4eI"
   },
   "source": [
    "### Submission Information\n",
    "\n",
    "_Date and Time Submitted (most recent upload)_:\n",
    "\n",
    "**HONOR PLEDGE** I affirm that I have upheld the highest principles of honesty and integrity in my academic work and that this lab assignment is my own work.\n",
    "\n",
    "**Sign here with your full name: Aidan Joseph Quesada Bunachita**"
   ]
  },
  {
   "cell_type": "markdown",
   "metadata": {
    "id": "X1UGsRpW-eQs"
   },
   "source": [
    "### Grading Information (c/o Lab Instructor)\n",
    "\n",
    "TOTAL SCORE: **XX**/100\n",
    "\n",
    "Score breakdown:\n",
    "* Problem 1 - 30/30\n",
    "* Problem 2 - 30/30\n",
    "* Problem 3 - 40/40\n",
    "\n",
    "_Date and Time Scored (MM/DD/YYYY HH:MM AM/PM):_\n",
    "<span style=\"color:blue\"> Very good. </span>"
   ]
  },
  {
   "cell_type": "markdown",
   "metadata": {
    "id": "LxWuqiCFMsEh"
   },
   "source": [
    "### PROBLEM 1\n",
    "**Integration using the trapezoidal rule and Simpson's rule**\n",
    "\n",
    "Calculate the integral of the function $ 2x^4 + 3x^2 + 4x + 5$ from $x=0$ to $x=5$.\n",
    "\n",
    "1. Do the numerical calculation using the trapezoidal rule with 10, 100, and 1,000 slices. Describe each step of the calculation clearly and concisely. *(10 pts.)*\n",
    "\n",
    "2. What are the percentage errors of your answers in (1)? *(10 pts.)*\n",
    "\n",
    "3. Repeat the calculation using Simpson's rule with 10, 100, and 1,000 slices. Describe each step of the calculation clearly and concisely. *(5 pts.)*\n",
    "\n",
    "4. What are the percentage errors of your answers in (3)? How do they compare with the results from (1) for the same number of slices? *(5 pts.)*"
   ]
  },
  {
   "cell_type": "markdown",
   "metadata": {},
   "source": [
    "Given the following formulas for both rules:\n",
    "$$\\begin{align*}\n",
    "\\text{Trapezoidal: } I &\\approx \\frac{h}{2} \\left[f(a)+f(b) + \\sum_1^{N-1} 2f(a+kh)\\right]\\\\\n",
    "\\text{Simpson's: } I &\\approx  \\frac{h}{3} \\left[f(a) + f(b) + 4\\sum_\\text{Odd}^{N-1} f(a+kh) + 2\\sum_\\text{Even}^{N-2} f(a+kh)\\right] \\ \\ \\text{[NOTE: N is even.]}\n",
    "\\end{align*}$$\n",
    "\n",
    "We know that the first rule just follows from summing the areas of Trapezoids $2A=h(f_L+f_R).$ We also know that the second can be derived from:\n",
    "$$\\begin{align*}\n",
    "f(-h) &= Ah^2 - Bh + C \\\\\n",
    "f(0) &= C \\\\\n",
    "f(h) &= Ah^2 + Bh + C\n",
    "\\end{align*}$$ \n",
    "\n",
    "Given an arbitrary quadratic and its integral from $-h$ to $h:$\n",
    "$$\\begin{align*}\n",
    "Q &: Ax^2 + Bx + C \\\\\n",
    "\\int Qdx &= \\left[\\frac{1}{3}Ax^3 + Cx\\right]_{-h}^h + B(h^2-h^2) \\\\\n",
    "&= \\frac{h}{3}[2Ah^2 + 6C], \\ \\ ★ \\\\\n",
    "&= \\frac{h}{3}[f(-h)+4f(0)+f(h)]. \\ \\ ★★\n",
    "\\end{align*}$$\n",
    "So, we program these two rules below, then test their accuracy on our function $g(x) = 2x^4+3x^2+4x+5:$"
   ]
  },
  {
   "cell_type": "code",
   "execution_count": 3,
   "metadata": {
    "id": "hMqWOsbIMoUh"
   },
   "outputs": [],
   "source": [
    "def int_trap(f, a, b, N):\n",
    "    h = (b - a)/N               # 1. Defines size of each slice\n",
    "    sum = 0.5 * (f(a) + f(b))   # 2. Initializes the Trapezoidal Rule sum with its end-values, f(a)/2 and f(b)/2\n",
    "    \n",
    "    for k in range(1,N):        \n",
    "        sum += f(a + k*h)       # 3. Sums the heights involved in the Trapezoid areas; the input (a + k*h) goes as: (a + h), (a + 2h), ..., (a + (N-1)h)\n",
    "    return sum * h              # 4. returns the value given by the Trapezoidal Rule integral, which is the sum above times h.\n",
    "\n",
    "\n",
    "\n",
    "\n",
    "def int_simp(f, a, b, N):\n",
    "    h = (b-a)/N\n",
    "    sum = f(a) + f(b)           # 1. Initializes the Simpson's Rule sum with its end-values - here, the factor of 1/3 is left to the end of the calculation instead, for clarity.\n",
    "    \n",
    "    for k in range(1,N,2):\n",
    "        sum += 4*f(a + k*h)    # 2. Sums up the first set of heights involved in the Simpson's Rule curves; the input (a + k*h) goes as: (a + h), (a + 3h), ... (a + mh), where m is the last ODD number in range(1,N)\n",
    "\n",
    "    for k in range(2,N,2):\n",
    "        sum += 2*f(a + k*h)    # 3. Sums up the second set of heights; (a + k*h) goes as: (a + 2h), (a + 4h), ... (a + nh), where n is the last EVEN number in range(1,N)\n",
    "\n",
    "    return (1./3) * h * sum    # 4. Returns the Simpson's Rule integral; here, we say 1./3 to make it a floating-point value. "
   ]
  },
  {
   "cell_type": "code",
   "execution_count": 4,
   "metadata": {},
   "outputs": [
    {
     "name": "stdout",
     "output_type": "stream",
     "text": [
      "Trapezoidal Rule Integrals:\n",
      "10 slices: 1471.4375 (error : 1.478448275862069%)\n",
      "100 slices: 1450.2145812500003 (error : 0.014798706896569988%)\n",
      "1000 slices: 1450.0021458331234 (error : 0.00014798849127240326%)\n",
      "Simpson's Rule Integrals:\n",
      "10 slices: 1450.0833333333333 (error : 0.005747126436776382%)\n",
      "100 slices: 1450.0000083333337 (error : 5.747126657485657e-07%)\n",
      "1000 slices: 1450.000000000834 (error : 5.75176994155707e-11%)\n"
     ]
    }
   ],
   "source": [
    "g = lambda x : 2*x**4 + 3*x**2 + 4*x + 5\n",
    "a = 0\n",
    "b = 5\n",
    "exact = 1450                                # the exact value of the integral of g(x) from x = 0 to x = 5\n",
    "slices = [10,100,1000]                      # the 3 resolutions we'll be taking our integrals at\n",
    "\n",
    "print(\"Trapezoidal Rule Integrals:\")\n",
    "for N in slices:\n",
    "    i = int_trap(g, a, b, N)                \n",
    "    err = 100*abs((i-exact)/exact)\n",
    "    print(str(N) + \" slices: \" + str(i) + \" (error : \" + str(err) + \"%)\") # int_trap is called, its value is compared to the exact value, then the results will be printed (along with its associated resolution)\n",
    "\n",
    "print(\"Simpson's Rule Integrals:\")\n",
    "for N in slices:\n",
    "    i = int_simp(g, a, b, N)\n",
    "    err = 100*abs((i-exact)/exact)\n",
    "    print(str(N) + \" slices: \" + str(i) + \" (error : \" + str(err) + \"%)\") # same as above, this time with int_simp"
   ]
  },
  {
   "cell_type": "markdown",
   "metadata": {},
   "source": [
    "At each given resolution, the Simpson's Rule integral had a **lower** percent-deviation from the exact value than the Trapezoidal Rule integral. This is consistent with theory, since the error of the former is $O(h^4)$, while that of the latter is $O(h^2)$. Intuitively, this is because the approximating curves for Simpson's Rule fit the graph better, since they're quadratic (as opposed to those of the Trapezoidal rule, which are just linear.)"
   ]
  },
  {
   "cell_type": "markdown",
   "metadata": {
    "id": "m2a6sg90R-NX"
   },
   "source": [
    "### PROBLEM 2\n",
    "\n",
    "**Integration using Gaussian quadrature**\n",
    "\n",
    "Calculate the integral from Problem 1 using the Gaussian quadrature method: $ 2x^4 + 3x^2 + 4x + 5$ from $x=0$ to $x=5$.\n",
    "\n",
    "1. Define the function $\\tt gaussxw$ from Appendix E of the Newman text (and run the cell). *(10 pts.)*\n",
    "\n",
    "2. Calculate the integral using the $\\tt gaussxw$ function in (1) and number of slices $N = 3$. Describe each step in the calculation clearly and concisely. *(20 pts.)*"
   ]
  },
  {
   "cell_type": "code",
   "execution_count": 2,
   "metadata": {
    "id": "YO_PDJ4VIVs5"
   },
   "outputs": [],
   "source": [
    "from numpy import ones, copy, cos, tan, pi, linspace\n",
    "\n",
    "def gaussxw(N):\n",
    "    a = linspace(3, 4*N-1, N)/(4*N+2)\n",
    "    x = cos(pi * a+1/(8*N*N*tan(a)))\n",
    "\n",
    "    epsilon = 1e-15\n",
    "    delta = 1.0\n",
    "    while delta > epsilon:\n",
    "        p0 = ones(N, float)\n",
    "        p1 = copy(x)\n",
    "        for k in range(1, N):\n",
    "            p0, p1 = p1, ((2*k+1)*x*p1 - k*p0)/(k+1)\n",
    "        \n",
    "        dp = (N+1)*(p0 - x*p1)/(1 - x*x)\n",
    "        dx = p1/dp\n",
    "        x -= dx\n",
    "        delta = max(abs(dx))\n",
    "\n",
    "    w = 2*(N+1)*(N+1)/(N*N*(1 - x*x)*dp*dp)\n",
    "\n",
    "    return x, w\n",
    "\n",
    "def gaussxwab(N, a, b):\n",
    "    x, w = gaussxw(N)\n",
    "    return 0.5*(b-a)*x + 0.5*(b+a), 0.5*(b-a)*w\n",
    "\n",
    "def gaussint(g, N, x, w):\n",
    "    sum = 0\n",
    "    for k in range(N):\n",
    "        sum += w[k] * g(x[k])\n",
    "\n",
    "    return sum\n",
    "    "
   ]
  },
  {
   "cell_type": "code",
   "execution_count": 5,
   "metadata": {},
   "outputs": [
    {
     "name": "stdout",
     "output_type": "stream",
     "text": [
      "1450.000000000002\n"
     ]
    }
   ],
   "source": [
    "N = 3                               # initializing variables; here, the bounds are [0, 5] and we take 3 points.\n",
    "a = 0\n",
    "b = 5\n",
    "xp, wp = gaussxwab(N, a, b)         # calling function to obtain points and weights *xp*, *wp* - first, by using *gaussxw()*, then scaling our points & weights using *gaussxwab()*\n",
    "\n",
    "sum = gaussint(g, N, xp, wp)        # obtaining the integral using the *xp*, *wp* we got above.\n",
    "\n",
    "print(sum)"
   ]
  },
  {
   "cell_type": "markdown",
   "metadata": {},
   "source": [
    "Here, the Gaussian Quadrature method yields a much more accurate result **even** compared to the Simpson's Rule above with $N=1000$ slices. In theory though, this method is supposed to yield the **exact** value for the integral, since the method can derive the exact integral of polynomials **with Degree** $d \\leq 2N-1.$ This small error could be due to approximating our weights and points. The points are based on the zeroes of the 3rd Legendre Polynomial, which we approximate via Newton's method above (after starting with initial guesses that we set in Line 5 above, where $x$ appears). The weights, on the other hand, being the integrals of the interpolating polynomials, are computed numerically —- here, Newman takes a shortcut and uses the formula in Line 20, which comes from Abramowitz & Stegun (1983). This small error could also be from rounding errors/limitations with Python's precision, seeing that we have $16$ significant figures in its final answer."
   ]
  },
  {
   "cell_type": "markdown",
   "metadata": {
    "id": "HceOjNu-VfN9"
   },
   "source": [
    "### PROBLEM 3\n",
    "\n",
    "**Physics Application: Anharmonic Oscillator**\n",
    "\n",
    "_Refer to Exercise 5.10 of the Newman text._ Consider an anharmonic oscillator with potential $V(x)$ symmetric about $x = 0$. Let us set our anharmonic oscillator going with amplitude $a$. That is, at $t = 0$ we release it from rest at position $x = a$ and it swings back towards the origin. Then at $t = 0$ we have $dx/dt = 0$ and the equation for its total energy becomes $E = V(a)$, i.e., the total energy of the particle is given in terms of the amplitude.\n",
    "\n",
    "When the particle reaches the origin for the first time, it has gone through one quarter of a period of the oscillator. The period $T$ is given by: $$ T = \\sqrt{8m} \\int_0^a \\frac{dx}{\\sqrt{V(a)-V(x)}}. $$\n",
    "\n",
    "1. Suppose the potential is $V(x) = x^4$ and the mass of the particle is $m = 1$. Write a Python function that calculates the period of the oscillator for given amplitude a using Gaussian quadrature with $N = 20$ points. Describe each step clearly and concisely. *(20 pts.)*\n",
    "\n",
    "2. Use your function to make a graph of the period for amplitudes ranging from $a = 0$ to $a = 2$. Describe the behavior you find and explain these results clearly and concisely. *(20 pts.)*"
   ]
  },
  {
   "cell_type": "code",
   "execution_count": 30,
   "metadata": {
    "id": "p28JF-OQYock"
   },
   "outputs": [
    {
     "data": {
      "text/plain": [
       "<function matplotlib.pyplot.show(close=None, block=None)>"
      ]
     },
     "execution_count": 30,
     "metadata": {},
     "output_type": "execute_result"
    },
    {
     "data": {
      "image/png": "[encoded data removed]",
      "text/plain": [
       "<Figure size 640x480 with 1 Axes>"
      ]
     },
     "metadata": {},
     "output_type": "display_data"
    }
   ],
   "source": [
    "from math import sqrt                                 # lets me use the sqrt() function\n",
    "import matplotlib.pyplot as plt                       \n",
    "\n",
    "m = 1\n",
    "N = 20\n",
    "\n",
    "\n",
    "amps = linspace(0, 2, 200)[1:]                           # initializing the points (amp, T) we'll be graphing; here, we make 200 values for amp, then supply 200 values of T below\n",
    "periods = []\n",
    "\n",
    "for k in range(len(amps)):\n",
    "   xp, wp = gaussxwab(N, 0, amps[k])                     # obtains the points and weights \n",
    "   T = lambda x: 1/(sqrt(amps[k]**4-x**4))               # sets the integrand 1/sqrt(V(a)-V(x)) as a function *T*...\n",
    "   periods.append(sqrt(8*m) * gaussint(T, N, xp, wp))    # ...then integrates *T* via *gaussint()*, \n",
    "                                                         # and appends the actual value of T (which is sqrt{8m} times the integral) onto list of periods\n",
    "\n",
    "amps2 = linspace(0,2,600)[1:]                            # repeated the above, this time for 600 points instead of 200 (just to confirm)\n",
    "periods2 = []                                             \n",
    "for k in range(len(amps2)):                              \n",
    "   xp, wp = gaussxwab(N, 0, amps2[k])\n",
    "   T = lambda x: 1/(sqrt(amps2[k]**4-x**4))              \n",
    "   periods2.append(sqrt(8*m) * gaussint(T, N, xp, wp))\n",
    "\n",
    "plt.plot(amps, periods,linewidth = 4)\n",
    "plt.plot(amps2,periods2)\n",
    "plt.xlabel(\"Amplitude\")\n",
    "plt.ylabel(\"Period\") \n",
    "plt.title(\"Anharmonic Oscillator\")\n",
    "plt.show"
   ]
  },
  {
   "cell_type": "markdown",
   "metadata": {},
   "source": [
    "Here, the period decays for higher amplitudes, and increases for lower amplitudes. This can be explained by considering the restorative force $F = -\\nabla V$, which here is $F \\propto x^3$. So, even though the amplitude (and thus distance travelled) decreases for lower values of $a$, the restorative force becomes disproportionately smaller, thus leading to a larger period overall. "
   ]
  }
 ],
 "metadata": {
  "colab": {
   "provenance": []
  },
  "kernelspec": {
   "display_name": "Python 3 (ipykernel)",
   "language": "python",
   "name": "python3"
  },
  "language_info": {
   "codemirror_mode": {
    "name": "ipython",
    "version": 3
   },
   "file_extension": ".py",
   "mimetype": "text/x-python",
   "name": "python",
   "nbconvert_exporter": "python",
   "pygments_lexer": "ipython3",
   "version": "3.10.9"
  }
 },
 "nbformat": 4,
 "nbformat_minor": 1
}
